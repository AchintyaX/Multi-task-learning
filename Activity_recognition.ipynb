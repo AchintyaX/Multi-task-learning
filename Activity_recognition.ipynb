{
 "cells": [
  {
   "cell_type": "code",
   "execution_count": 1,
   "metadata": {},
   "outputs": [],
   "source": [
    "from utils import *\n",
    "import numpy as np \n",
    "from sklearn.metrics import classification_report\n",
    "import matplotlib.pylab as plt \n",
    "import random\n",
    "\n",
    "import tensorflow as tf \n",
    "from tensorflow.keras import backend as K\n",
    "from tensorflow.compat.v1.keras import initializers"
   ]
  },
  {
   "cell_type": "code",
   "execution_count": 2,
   "metadata": {},
   "outputs": [],
   "source": [
    "random.seed(42)\n",
    "np.random.seed(42)\n",
    "tf.random.set_seed(42)\n",
    "my_init = initializers.glorot_uniform(seed=42)"
   ]
  },
  {
   "cell_type": "code",
   "execution_count": 3,
   "metadata": {},
   "outputs": [],
   "source": [
    "session_conf = tf.compat.v1.ConfigProto(intra_op_parallelism_threads=1,\n",
    "                              inter_op_parallelism_threads=1)\n",
    "sess = tf.compat.v1.Session(graph=tf.compat.v1.get_default_graph(), config=session_conf)\n",
    "tf.compat.v1.keras.backend.set_session(sess)"
   ]
  },
  {
   "cell_type": "code",
   "execution_count": 4,
   "metadata": {},
   "outputs": [],
   "source": [
    "X, Y = load_raw_data(data_folder)\n",
    "X, Y, Y_std, Y_soc, Y_fourier = prepare_x_y(X, Y)\n",
    "X_train, X_test, Y_train, Y_test, Y_train_std, Y_test_std, \\\n",
    "                     Y_train_soc, Y_test_soc, Y_train_fourier, Y_test_fourier = prepare_train_test(X, \n",
    "                                                                                                   Y, \n",
    "                                                                                                   Y_std, \n",
    "                                                                                                   Y_soc, \n",
    "                                                                                                   Y_fourier)"
   ]
  },
  {
   "cell_type": "code",
   "execution_count": 5,
   "metadata": {},
   "outputs": [
    {
     "name": "stderr",
     "output_type": "stream",
     "text": [
      "/home/achintya/.local/lib/python3.6/site-packages/sklearn/linear_model/_logistic.py:940: ConvergenceWarning: lbfgs failed to converge (status=1):\n",
      "STOP: TOTAL NO. of ITERATIONS REACHED LIMIT.\n",
      "\n",
      "Increase the number of iterations (max_iter) or scale the data as shown in:\n",
      "    https://scikit-learn.org/stable/modules/preprocessing.html\n",
      "Please also refer to the documentation for alternative solver options:\n",
      "    https://scikit-learn.org/stable/modules/linear_model.html#logistic-regression\n",
      "  extra_warning_msg=_LOGISTIC_SOLVER_CONVERGENCE_MSG)\n"
     ]
    },
    {
     "name": "stdout",
     "output_type": "stream",
     "text": [
      "              precision    recall  f1-score   support\n",
      "\n",
      "           0       0.00      0.00      0.00        12\n",
      "           1       0.01      0.02      0.02       102\n",
      "           2       0.00      0.00      0.00        20\n",
      "           3       0.80      0.26      0.39        31\n",
      "           4       0.00      0.00      0.00        42\n",
      "           5       0.37      0.16      0.22       100\n",
      "           6       0.00      0.00      0.00        20\n",
      "           7       0.00      0.00      0.00         5\n",
      "           8       0.00      0.00      0.00         3\n",
      "           9       0.23      0.62      0.34       101\n",
      "          10       0.00      0.00      0.00        20\n",
      "          11       0.00      0.00      0.00        28\n",
      "          12       0.24      0.64      0.34       100\n",
      "          13       0.00      0.00      0.00        20\n",
      "          14       0.22      0.14      0.17       100\n",
      "          15       0.00      0.00      0.00        20\n",
      "          16       0.24      0.20      0.22       102\n",
      "          17       0.00      0.00      0.00        20\n",
      "          18       0.00      0.00      0.00        13\n",
      "          19       0.05      0.04      0.05       100\n",
      "          20       0.40      0.10      0.16        20\n",
      "\n",
      "    accuracy                           0.20       979\n",
      "   macro avg       0.12      0.10      0.09       979\n",
      "weighted avg       0.17      0.20      0.15       979\n",
      "\n"
     ]
    },
    {
     "name": "stderr",
     "output_type": "stream",
     "text": [
      "/home/achintya/.local/lib/python3.6/site-packages/sklearn/metrics/_classification.py:1272: UndefinedMetricWarning: Precision and F-score are ill-defined and being set to 0.0 in labels with no predicted samples. Use `zero_division` parameter to control this behavior.\n",
      "  _warn_prf(average, modifier, msg_start, len(result))\n"
     ]
    }
   ],
   "source": [
    "test_feature(Y, Y_std)"
   ]
  },
  {
   "cell_type": "code",
   "execution_count": 6,
   "metadata": {},
   "outputs": [
    {
     "name": "stdout",
     "output_type": "stream",
     "text": [
      "              precision    recall  f1-score   support\n",
      "\n",
      "           0       0.00      0.00      0.00        12\n",
      "           1       0.01      0.02      0.02       102\n",
      "           2       0.00      0.00      0.00        20\n",
      "           3       0.80      0.26      0.39        31\n",
      "           4       0.00      0.00      0.00        42\n",
      "           5       0.37      0.16      0.22       100\n",
      "           6       0.00      0.00      0.00        20\n",
      "           7       0.00      0.00      0.00         5\n",
      "           8       0.00      0.00      0.00         3\n",
      "           9       0.23      0.62      0.34       101\n",
      "          10       0.00      0.00      0.00        20\n",
      "          11       0.00      0.00      0.00        28\n",
      "          12       0.24      0.64      0.34       100\n",
      "          13       0.00      0.00      0.00        20\n",
      "          14       0.22      0.14      0.17       100\n",
      "          15       0.00      0.00      0.00        20\n",
      "          16       0.24      0.20      0.22       102\n",
      "          17       0.00      0.00      0.00        20\n",
      "          18       0.00      0.00      0.00        13\n",
      "          19       0.05      0.04      0.05       100\n",
      "          20       0.40      0.10      0.16        20\n",
      "\n",
      "    accuracy                           0.20       979\n",
      "   macro avg       0.12      0.10      0.09       979\n",
      "weighted avg       0.17      0.20      0.15       979\n",
      "\n"
     ]
    },
    {
     "name": "stderr",
     "output_type": "stream",
     "text": [
      "/home/achintya/.local/lib/python3.6/site-packages/sklearn/linear_model/_logistic.py:940: ConvergenceWarning: lbfgs failed to converge (status=1):\n",
      "STOP: TOTAL NO. of ITERATIONS REACHED LIMIT.\n",
      "\n",
      "Increase the number of iterations (max_iter) or scale the data as shown in:\n",
      "    https://scikit-learn.org/stable/modules/preprocessing.html\n",
      "Please also refer to the documentation for alternative solver options:\n",
      "    https://scikit-learn.org/stable/modules/linear_model.html#logistic-regression\n",
      "  extra_warning_msg=_LOGISTIC_SOLVER_CONVERGENCE_MSG)\n",
      "/home/achintya/.local/lib/python3.6/site-packages/sklearn/metrics/_classification.py:1272: UndefinedMetricWarning: Precision and F-score are ill-defined and being set to 0.0 in labels with no predicted samples. Use `zero_division` parameter to control this behavior.\n",
      "  _warn_prf(average, modifier, msg_start, len(result))\n"
     ]
    }
   ],
   "source": [
    "test_feature(Y, Y_std)"
   ]
  },
  {
   "cell_type": "code",
   "execution_count": 7,
   "metadata": {},
   "outputs": [
    {
     "name": "stdout",
     "output_type": "stream",
     "text": [
      "              precision    recall  f1-score   support\n",
      "\n",
      "           0       0.43      0.83      0.57        12\n",
      "           1       0.66      0.58      0.61       102\n",
      "           2       0.73      0.80      0.76        20\n",
      "           3       0.47      0.71      0.56        31\n",
      "           4       0.48      0.57      0.52        42\n",
      "           5       0.58      0.90      0.70       100\n",
      "           6       0.00      0.00      0.00        20\n",
      "           7       0.50      1.00      0.67         5\n",
      "           8       1.00      1.00      1.00         3\n",
      "           9       0.32      0.76      0.46       101\n",
      "          10       0.00      0.00      0.00        20\n",
      "          11       0.08      0.04      0.05        28\n",
      "          12       0.74      0.75      0.75       100\n",
      "          13       0.00      0.00      0.00        20\n",
      "          14       0.63      0.22      0.33       100\n",
      "          15       0.00      0.00      0.00        20\n",
      "          16       0.36      0.23      0.28       102\n",
      "          17       0.00      0.00      0.00        20\n",
      "          18       0.28      0.38      0.32        13\n",
      "          19       0.67      0.74      0.70       100\n",
      "          20       0.00      0.00      0.00        20\n",
      "\n",
      "    accuracy                           0.52       979\n",
      "   macro avg       0.38      0.45      0.39       979\n",
      "weighted avg       0.47      0.52      0.47       979\n",
      "\n"
     ]
    },
    {
     "name": "stderr",
     "output_type": "stream",
     "text": [
      "/home/achintya/.local/lib/python3.6/site-packages/sklearn/linear_model/_logistic.py:940: ConvergenceWarning: lbfgs failed to converge (status=1):\n",
      "STOP: TOTAL NO. of ITERATIONS REACHED LIMIT.\n",
      "\n",
      "Increase the number of iterations (max_iter) or scale the data as shown in:\n",
      "    https://scikit-learn.org/stable/modules/preprocessing.html\n",
      "Please also refer to the documentation for alternative solver options:\n",
      "    https://scikit-learn.org/stable/modules/linear_model.html#logistic-regression\n",
      "  extra_warning_msg=_LOGISTIC_SOLVER_CONVERGENCE_MSG)\n",
      "/home/achintya/.local/lib/python3.6/site-packages/sklearn/metrics/_classification.py:1272: UndefinedMetricWarning: Precision and F-score are ill-defined and being set to 0.0 in labels with no predicted samples. Use `zero_division` parameter to control this behavior.\n",
      "  _warn_prf(average, modifier, msg_start, len(result))\n"
     ]
    }
   ],
   "source": [
    "test_feature(Y, Y_fourier,True)"
   ]
  },
  {
   "cell_type": "code",
   "execution_count": 8,
   "metadata": {},
   "outputs": [
    {
     "data": {
      "image/png": "[encoded data removed]",
      "text/plain": [
       "<Figure size 432x288 with 1 Axes>"
      ]
     },
     "metadata": {
      "needs_background": "light"
     },
     "output_type": "display_data"
    }
   ],
   "source": [
    "plt.figure()\n",
    "plt.hist([np.argmax(y) for y in Y_train], label = 'Train set', alpha = 0.5, bins = 21)\n",
    "plt.hist([np.argmax(y) for y in Y_test], label = 'Test set', alpha = 0.5, bins = 21)\n",
    "plt.show()\n"
   ]
  },
  {
   "cell_type": "markdown",
   "metadata": {},
   "source": [
    "## Defining single task model "
   ]
  },
  {
   "cell_type": "code",
   "execution_count": 12,
   "metadata": {},
   "outputs": [],
   "source": [
    "from tensorflow.compat.v1.keras.layers import Input,Conv1D, Dense, MaxPooling1D, GlobalMaxPooling1D, Flatten\n",
    "from tensorflow.compat.v1.keras.models import Model\n",
    "from tensorflow.compat.v1.keras.optimizers import Adam"
   ]
  },
  {
   "cell_type": "code",
   "execution_count": 13,
   "metadata": {},
   "outputs": [],
   "source": [
    "inn = Input(shape = (X_train.shape[1], X_train.shape[2], ))\n",
    "\n",
    "x = Conv1D(16, 5, activation='relu', kernel_initializer=my_init)(inn)\n",
    "x = MaxPooling1D(5)(x)\n",
    "x = Conv1D(32, 5, activation='relu', kernel_initializer=my_init)(x)\n",
    "x = MaxPooling1D(5)(x)\n",
    "x = Conv1D(64, 5, activation='relu', kernel_initializer=my_init)(x)\n",
    "x = GlobalMaxPooling1D()(x)\n",
    "out = Dense(Y_test.shape[1], activation = 'softmax', kernel_initializer=my_init)(x)\n",
    "\n",
    "model = Model(inputs=[inn], outputs=[out])\n",
    "\n",
    "model.compile(loss='categorical_crossentropy',metrics = ['accuracy'], optimizer = Adam(clipnorm = 1.))"
   ]
  },
  {
   "cell_type": "code",
   "execution_count": 14,
   "metadata": {},
   "outputs": [
    {
     "name": "stdout",
     "output_type": "stream",
     "text": [
      "Model: \"model\"\n",
      "_________________________________________________________________\n",
      "Layer (type)                 Output Shape              Param #   \n",
      "=================================================================\n",
      "input_2 (InputLayer)         [(None, 9318, 3)]         0         \n",
      "_________________________________________________________________\n",
      "conv1d (Conv1D)              (None, 9314, 16)          256       \n",
      "_________________________________________________________________\n",
      "max_pooling1d (MaxPooling1D) (None, 1862, 16)          0         \n",
      "_________________________________________________________________\n",
      "conv1d_1 (Conv1D)            (None, 1858, 32)          2592      \n",
      "_________________________________________________________________\n",
      "max_pooling1d_1 (MaxPooling1 (None, 371, 32)           0         \n",
      "_________________________________________________________________\n",
      "conv1d_2 (Conv1D)            (None, 367, 64)           10304     \n",
      "_________________________________________________________________\n",
      "global_max_pooling1d (Global (None, 64)                0         \n",
      "_________________________________________________________________\n",
      "dense (Dense)                (None, 21)                1365      \n",
      "=================================================================\n",
      "Total params: 14,517\n",
      "Trainable params: 14,517\n",
      "Non-trainable params: 0\n",
      "_________________________________________________________________\n"
     ]
    }
   ],
   "source": [
    "model.summary()"
   ]
  },
  {
   "cell_type": "code",
   "execution_count": 16,
   "metadata": {},
   "outputs": [
    {
     "name": "stdout",
     "output_type": "stream",
     "text": [
      "Train on 734 samples, validate on 245 samples\n",
      "Epoch 1/10\n",
      "734/734 [==============================] - 7s 9ms/sample - loss: 6.0218 - accuracy: 0.0872 - val_loss: 2.9763 - val_accuracy: 0.2163\n",
      "Epoch 2/10\n",
      "734/734 [==============================] - 5s 7ms/sample - loss: 2.7682 - accuracy: 0.1826 - val_loss: 2.4068 - val_accuracy: 0.2776\n",
      "Epoch 3/10\n",
      "734/734 [==============================] - 5s 7ms/sample - loss: 2.3308 - accuracy: 0.2875 - val_loss: 2.1839 - val_accuracy: 0.3388\n",
      "Epoch 4/10\n",
      "734/734 [==============================] - 5s 7ms/sample - loss: 2.0409 - accuracy: 0.4087 - val_loss: 1.8936 - val_accuracy: 0.4898\n",
      "Epoch 5/10\n",
      "734/734 [==============================] - 5s 7ms/sample - loss: 1.7889 - accuracy: 0.5327 - val_loss: 1.6652 - val_accuracy: 0.5592\n",
      "Epoch 6/10\n",
      "734/734 [==============================] - 5s 7ms/sample - loss: 1.5679 - accuracy: 0.5858 - val_loss: 1.4948 - val_accuracy: 0.6204\n",
      "Epoch 7/10\n",
      "734/734 [==============================] - 5s 7ms/sample - loss: 1.3654 - accuracy: 0.6117 - val_loss: 1.3412 - val_accuracy: 0.6245\n",
      "Epoch 8/10\n",
      "734/734 [==============================] - 5s 7ms/sample - loss: 1.1847 - accuracy: 0.6376 - val_loss: 1.2229 - val_accuracy: 0.6286\n",
      "Epoch 9/10\n",
      "734/734 [==============================] - 5s 7ms/sample - loss: 1.0376 - accuracy: 0.6526 - val_loss: 1.1281 - val_accuracy: 0.6367\n",
      "Epoch 10/10\n",
      "734/734 [==============================] - 5s 7ms/sample - loss: 0.9159 - accuracy: 0.6880 - val_loss: 1.0515 - val_accuracy: 0.6449\n"
     ]
    }
   ],
   "source": [
    "h = model.fit(\n",
    "    X_train, Y_train, \n",
    "    epochs = 10, \n",
    "    batch_size=64, \n",
    "    validation_data= (X_test, Y_test), \n",
    "    verbose=True, \n",
    "    shuffle=False\n",
    ")"
   ]
  },
  {
   "cell_type": "code",
   "execution_count": 17,
   "metadata": {},
   "outputs": [
    {
     "name": "stdout",
     "output_type": "stream",
     "text": [
      "              precision    recall  f1-score   support\n",
      "\n",
      "           1       0.37      0.83      0.51        23\n",
      "           2       0.00      0.00      0.00         7\n",
      "           3       1.00      1.00      1.00        11\n",
      "           4       0.50      0.30      0.37        10\n",
      "           5       0.78      0.96      0.86        26\n",
      "           6       0.00      0.00      0.00         5\n",
      "           9       0.76      0.81      0.78        31\n",
      "          10       1.00      0.25      0.40         4\n",
      "          11       1.00      0.18      0.31        11\n",
      "          12       0.70      1.00      0.82        23\n",
      "          13       0.00      0.00      0.00         5\n",
      "          14       0.68      0.87      0.76        30\n",
      "          15       0.33      0.50      0.40         2\n",
      "          16       0.57      0.65      0.60        20\n",
      "          17       1.00      0.25      0.40         4\n",
      "          18       0.00      0.00      0.00         2\n",
      "          19       0.75      0.23      0.35        26\n",
      "          20       1.00      0.40      0.57         5\n",
      "\n",
      "    accuracy                           0.64       245\n",
      "   macro avg       0.58      0.46      0.45       245\n",
      "weighted avg       0.65      0.64      0.60       245\n",
      "\n"
     ]
    },
    {
     "name": "stderr",
     "output_type": "stream",
     "text": [
      "/home/achintya/.local/lib/python3.6/site-packages/sklearn/metrics/_classification.py:1272: UndefinedMetricWarning: Precision and F-score are ill-defined and being set to 0.0 in labels with no predicted samples. Use `zero_division` parameter to control this behavior.\n",
      "  _warn_prf(average, modifier, msg_start, len(result))\n"
     ]
    }
   ],
   "source": [
    "print(classification_report([np.argmax(x) for x in Y_test], [np.argmax(x) for x in model.predict(X_test)]))"
   ]
  },
  {
   "cell_type": "markdown",
   "metadata": {},
   "source": [
    "## Multitask model + std as auxiliary loss "
   ]
  },
  {
   "cell_type": "code",
   "execution_count": 18,
   "metadata": {},
   "outputs": [],
   "source": [
    "inn = Input(shape =(X_train.shape[1], X_train.shape[2], ))\n",
    "\n",
    "x = Conv1D(16, 5, activation='relu', kernel_initializer=my_init)(inn)\n",
    "x = MaxPooling1D(5)(x)\n",
    "x = Conv1D(32, 5, activation='relu', kernel_initializer=my_init)(x)\n",
    "x = MaxPooling1D(5)(x)\n",
    "x = Conv1D(64, 5, activation='relu', kernel_initializer=my_init)(x)\n",
    "x = GlobalMaxPooling1D()(x)\n",
    "out = Dense(Y_test.shape[1], activation = 'softmax', name = 'classification', kernel_initializer=my_init)(x)\n",
    "out2 = Dense(1, activation = 'linear', name = 'regression', kernel_initializer=my_init)(x)\n",
    "\n",
    "model = Model(inputs=[inn], outputs=[out, out2])\n",
    "\n",
    "model.compile(loss=['categorical_crossentropy', 'mse'],\n",
    "              metrics = {'classification': 'accuracy'}, optimizer = Adam(clipnorm = 1.), loss_weights = [1, 1e-3])"
   ]
  },
  {
   "cell_type": "code",
   "execution_count": 19,
   "metadata": {},
   "outputs": [
    {
     "name": "stdout",
     "output_type": "stream",
     "text": [
      "Train on 734 samples, validate on 245 samples\n",
      "Epoch 1/10\n",
      "734/734 [==============================] - 6s 8ms/sample - loss: 11.5075 - classification_loss: 10.8308 - regression_loss: 404.2150 - classification_accuracy: 0.0940 - val_loss: 4.7040 - val_classification_loss: 4.4910 - val_regression_loss: 215.0918 - val_classification_accuracy: 0.1265\n",
      "Epoch 2/10\n",
      "734/734 [==============================] - 5s 7ms/sample - loss: 4.1198 - classification_loss: 3.9402 - regression_loss: 131.1044 - classification_accuracy: 0.1335 - val_loss: 3.1053 - val_classification_loss: 3.0599 - val_regression_loss: 56.8965 - val_classification_accuracy: 0.1755\n",
      "Epoch 3/10\n",
      "734/734 [==============================] - 5s 7ms/sample - loss: 2.9002 - classification_loss: 2.8446 - regression_loss: 31.9341 - classification_accuracy: 0.1771 - val_loss: 2.5227 - val_classification_loss: 2.4974 - val_regression_loss: 28.1635 - val_classification_accuracy: 0.2367\n",
      "Epoch 4/10\n",
      "734/734 [==============================] - 5s 7ms/sample - loss: 2.4505 - classification_loss: 2.4101 - regression_loss: 20.5695 - classification_accuracy: 0.2411 - val_loss: 2.3572 - val_classification_loss: 2.3389 - val_regression_loss: 18.5825 - val_classification_accuracy: 0.2408\n",
      "Epoch 5/10\n",
      "734/734 [==============================] - 5s 7ms/sample - loss: 2.2664 - classification_loss: 2.2372 - regression_loss: 14.6847 - classification_accuracy: 0.2875 - val_loss: 2.1738 - val_classification_loss: 2.1604 - val_regression_loss: 14.4787 - val_classification_accuracy: 0.3020\n",
      "Epoch 6/10\n",
      "734/734 [==============================] - 5s 7ms/sample - loss: 2.0591 - classification_loss: 2.0329 - regression_loss: 11.4480 - classification_accuracy: 0.3815 - val_loss: 2.0035 - val_classification_loss: 1.9935 - val_regression_loss: 10.9352 - val_classification_accuracy: 0.3673\n",
      "Epoch 7/10\n",
      "734/734 [==============================] - 5s 7ms/sample - loss: 1.8803 - classification_loss: 1.8607 - regression_loss: 9.1438 - classification_accuracy: 0.4210 - val_loss: 1.8594 - val_classification_loss: 1.8533 - val_regression_loss: 8.5217 - val_classification_accuracy: 0.3592\n",
      "Epoch 8/10\n",
      "734/734 [==============================] - 5s 7ms/sample - loss: 1.7102 - classification_loss: 1.6900 - regression_loss: 7.8855 - classification_accuracy: 0.4564 - val_loss: 1.6971 - val_classification_loss: 1.6915 - val_regression_loss: 7.8197 - val_classification_accuracy: 0.4245\n",
      "Epoch 9/10\n",
      "734/734 [==============================] - 5s 7ms/sample - loss: 1.5340 - classification_loss: 1.5141 - regression_loss: 7.1417 - classification_accuracy: 0.5204 - val_loss: 1.5207 - val_classification_loss: 1.5144 - val_regression_loss: 7.1275 - val_classification_accuracy: 0.5265\n",
      "Epoch 10/10\n",
      "734/734 [==============================] - 5s 7ms/sample - loss: 1.3571 - classification_loss: 1.3370 - regression_loss: 6.8720 - classification_accuracy: 0.5463 - val_loss: 1.4041 - val_classification_loss: 1.3981 - val_regression_loss: 6.7140 - val_classification_accuracy: 0.5224\n"
     ]
    }
   ],
   "source": [
    "h = model.fit(\n",
    "    X_train, [Y_train, Y_train_std],\n",
    "    epochs = 10,\n",
    "    batch_size = 64,\n",
    "    validation_data = (X_test, [Y_test, Y_test_std]),\n",
    "    verbose = True,\n",
    "    shuffle = False\n",
    ")"
   ]
  },
  {
   "cell_type": "code",
   "execution_count": 21,
   "metadata": {},
   "outputs": [
    {
     "name": "stdout",
     "output_type": "stream",
     "text": [
      "              precision    recall  f1-score   support\n",
      "\n",
      "           1       0.36      0.43      0.39        23\n",
      "           2       0.00      0.00      0.00         7\n",
      "           3       0.64      0.64      0.64        11\n",
      "           4       0.50      0.30      0.37        10\n",
      "           5       0.72      0.50      0.59        26\n",
      "           6       0.25      0.20      0.22         5\n",
      "           9       0.71      0.81      0.76        31\n",
      "          10       1.00      0.50      0.67         4\n",
      "          11       0.29      0.18      0.22        11\n",
      "          12       0.54      0.87      0.67        23\n",
      "          13       0.00      0.00      0.00         5\n",
      "          14       0.62      0.60      0.61        30\n",
      "          15       0.67      1.00      0.80         2\n",
      "          16       0.48      0.80      0.60        20\n",
      "          17       0.00      0.00      0.00         4\n",
      "          18       0.00      0.00      0.00         2\n",
      "          19       0.27      0.31      0.29        26\n",
      "          20       1.00      0.20      0.33         5\n",
      "\n",
      "    accuracy                           0.52       245\n",
      "   macro avg       0.45      0.41      0.40       245\n",
      "weighted avg       0.50      0.52      0.49       245\n",
      "\n"
     ]
    },
    {
     "name": "stderr",
     "output_type": "stream",
     "text": [
      "/home/achintya/.local/lib/python3.6/site-packages/sklearn/metrics/_classification.py:1272: UndefinedMetricWarning: Precision and F-score are ill-defined and being set to 0.0 in labels with no predicted samples. Use `zero_division` parameter to control this behavior.\n",
      "  _warn_prf(average, modifier, msg_start, len(result))\n"
     ]
    }
   ],
   "source": [
    "print(classification_report([np.argmax(x) for x in Y_test], \n",
    "                            [np.argmax(x) for x in model.predict(X_test)[0]]))"
   ]
  },
  {
   "cell_type": "markdown",
   "metadata": {},
   "source": [
    "## Multitask Model + Foureir coefs as auxiliary loss"
   ]
  },
  {
   "cell_type": "code",
   "execution_count": 22,
   "metadata": {},
   "outputs": [],
   "source": [
    "inn = Input(shape = (X_train.shape[1], X_train.shape[2], ))\n",
    "\n",
    "x = Conv1D(16, 5, activation='relu', kernel_initializer=my_init)(inn)\n",
    "x = MaxPooling1D(5)(x)\n",
    "x = Conv1D(32, 5, activation='relu', kernel_initializer=my_init)(x)\n",
    "x = MaxPooling1D(5)(x)\n",
    "x = Conv1D(64, 5, activation='relu', kernel_initializer=my_init)(x)\n",
    "x = GlobalMaxPooling1D()(x)\n",
    "out = Dense(Y_test.shape[1], activation = 'softmax', name = 'classification', kernel_initializer=my_init)(x)\n",
    "out2 = Dense(Y_train_fourier.shape[1], activation = 'linear', name = 'regression', kernel_initializer=my_init)(x)\n",
    "\n",
    "model = Model(inputs=[inn], outputs=[out, out2])\n",
    "\n",
    "model.compile(loss=['categorical_crossentropy', 'mse'],\n",
    "              metrics = {'classification': 'accuracy'}, optimizer = Adam(clipnorm = 1.), loss_weights = [1, 1e-2])"
   ]
  },
  {
   "cell_type": "code",
   "execution_count": 23,
   "metadata": {},
   "outputs": [
    {
     "name": "stdout",
     "output_type": "stream",
     "text": [
      "Train on 734 samples, validate on 245 samples\n",
      "Epoch 1/10\n",
      "734/734 [==============================] - 10s 14ms/sample - loss: 5.0036 - classification_loss: 4.7998 - regression_loss: 9.9058 - classification_accuracy: 0.1144 - val_loss: 2.8130 - val_classification_loss: 2.7753 - val_regression_loss: 3.3973 - val_classification_accuracy: 0.1918\n",
      "Epoch 2/10\n",
      "734/734 [==============================] - 5s 7ms/sample - loss: 2.4649 - classification_loss: 2.4390 - regression_loss: 2.2601 - classification_accuracy: 0.2520 - val_loss: 2.2036 - val_classification_loss: 2.1925 - val_regression_loss: 1.2921 - val_classification_accuracy: 0.2939\n",
      "Epoch 3/10\n",
      "734/734 [==============================] - 5s 7ms/sample - loss: 2.0263 - classification_loss: 2.0064 - regression_loss: 1.2013 - classification_accuracy: 0.3828 - val_loss: 1.9051 - val_classification_loss: 1.8957 - val_regression_loss: 1.0929 - val_classification_accuracy: 0.4286\n",
      "Epoch 4/10\n",
      "734/734 [==============================] - 5s 7ms/sample - loss: 1.7098 - classification_loss: 1.6888 - regression_loss: 1.1609 - classification_accuracy: 0.4986 - val_loss: 1.6276 - val_classification_loss: 1.6176 - val_regression_loss: 1.2660 - val_classification_accuracy: 0.5184\n",
      "Epoch 5/10\n",
      "734/734 [==============================] - 5s 7ms/sample - loss: 1.4592 - classification_loss: 1.4375 - regression_loss: 1.3305 - classification_accuracy: 0.5627 - val_loss: 1.4528 - val_classification_loss: 1.4404 - val_regression_loss: 1.4131 - val_classification_accuracy: 0.5306\n",
      "Epoch 6/10\n",
      "734/734 [==============================] - 5s 7ms/sample - loss: 1.2761 - classification_loss: 1.2540 - regression_loss: 1.4164 - classification_accuracy: 0.5913 - val_loss: 1.3029 - val_classification_loss: 1.2899 - val_regression_loss: 1.4965 - val_classification_accuracy: 0.5796\n",
      "Epoch 7/10\n",
      "734/734 [==============================] - 5s 7ms/sample - loss: 1.1196 - classification_loss: 1.0958 - regression_loss: 1.4712 - classification_accuracy: 0.6390 - val_loss: 1.1679 - val_classification_loss: 1.1556 - val_regression_loss: 1.5080 - val_classification_accuracy: 0.5959\n",
      "Epoch 8/10\n",
      "734/734 [==============================] - 5s 7ms/sample - loss: 0.9955 - classification_loss: 0.9714 - regression_loss: 1.4589 - classification_accuracy: 0.6744 - val_loss: 1.0835 - val_classification_loss: 1.0707 - val_regression_loss: 1.4657 - val_classification_accuracy: 0.6204\n",
      "Epoch 9/10\n",
      "734/734 [==============================] - 5s 7ms/sample - loss: 0.8982 - classification_loss: 0.8750 - regression_loss: 1.3907 - classification_accuracy: 0.7030 - val_loss: 1.0215 - val_classification_loss: 1.0092 - val_regression_loss: 1.3761 - val_classification_accuracy: 0.6327\n",
      "Epoch 10/10\n",
      "734/734 [==============================] - 5s 7ms/sample - loss: 0.8199 - classification_loss: 0.7978 - regression_loss: 1.3126 - classification_accuracy: 0.7207 - val_loss: 0.9791 - val_classification_loss: 0.9670 - val_regression_loss: 1.2876 - val_classification_accuracy: 0.6327\n"
     ]
    }
   ],
   "source": [
    "h = model.fit(\n",
    "    X_train, [Y_train, Y_train_fourier],\n",
    "    epochs = 10,\n",
    "    batch_size = 64,\n",
    "    validation_data = (X_test, [Y_test, Y_test_fourier]),\n",
    "    verbose = True,\n",
    "    shuffle = False\n",
    ")"
   ]
  },
  {
   "cell_type": "code",
   "execution_count": 24,
   "metadata": {},
   "outputs": [
    {
     "name": "stdout",
     "output_type": "stream",
     "text": [
      "              precision    recall  f1-score   support\n",
      "\n",
      "           1       0.32      0.78      0.46        23\n",
      "           2       1.00      0.14      0.25         7\n",
      "           3       1.00      0.82      0.90        11\n",
      "           4       0.33      0.10      0.15        10\n",
      "           5       0.78      0.96      0.86        26\n",
      "           6       0.00      0.00      0.00         5\n",
      "           9       0.92      0.74      0.82        31\n",
      "          10       1.00      1.00      1.00         4\n",
      "          11       0.50      0.36      0.42        11\n",
      "          12       0.77      1.00      0.87        23\n",
      "          13       0.00      0.00      0.00         5\n",
      "          14       0.83      0.80      0.81        30\n",
      "          15       0.40      1.00      0.57         2\n",
      "          16       0.55      0.85      0.67        20\n",
      "          17       0.00      0.00      0.00         4\n",
      "          18       0.00      0.00      0.00         2\n",
      "          19       0.00      0.00      0.00        26\n",
      "          20       1.00      0.80      0.89         5\n",
      "\n",
      "    accuracy                           0.63       245\n",
      "   macro avg       0.52      0.52      0.48       245\n",
      "weighted avg       0.60      0.63      0.59       245\n",
      "\n"
     ]
    },
    {
     "name": "stderr",
     "output_type": "stream",
     "text": [
      "/home/achintya/.local/lib/python3.6/site-packages/sklearn/metrics/_classification.py:1272: UndefinedMetricWarning: Precision and F-score are ill-defined and being set to 0.0 in labels with no predicted samples. Use `zero_division` parameter to control this behavior.\n",
      "  _warn_prf(average, modifier, msg_start, len(result))\n"
     ]
    }
   ],
   "source": [
    "print(\n",
    "    classification_report(\n",
    "        [np.argmax(x) for x in Y_test], \n",
    "        [np.argmax(x) for x in model.predict(X_test)[0]]\n",
    "    )\n",
    ")"
   ]
  },
  {
   "cell_type": "code",
   "execution_count": null,
   "metadata": {},
   "outputs": [],
   "source": []
  }
 ],
 "metadata": {
  "kernelspec": {
   "display_name": "Python 3",
   "language": "python",
   "name": "python3"
  },
  "language_info": {
   "codemirror_mode": {
    "name": "ipython",
    "version": 3
   },
   "file_extension": ".py",
   "mimetype": "text/x-python",
   "name": "python",
   "nbconvert_exporter": "python",
   "pygments_lexer": "ipython3",
   "version": "3.6.9"
  }
 },
 "nbformat": 4,
 "nbformat_minor": 2
}
